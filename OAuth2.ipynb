{
 "cells": [
  {
   "cell_type": "code",
   "execution_count": null,
   "metadata": {},
   "outputs": [],
   "source": [
    "from boxsdk import OAuth2, Client\n",
    "import box_config # this needs to have client_id, client_secret at least.  Later you can include your access_token"
   ]
  },
  {
   "cell_type": "code",
   "execution_count": null,
   "metadata": {},
   "outputs": [],
   "source": [
    "# This is my own client id and secret, do not share!\n",
    "\n",
    "client_id = box_config.client_id\n",
    "client_secret=box_config.client_secret\n",
    "redirect_uri = 'http://127.0.0.1'"
   ]
  },
  {
   "cell_type": "code",
   "execution_count": null,
   "metadata": {},
   "outputs": [],
   "source": [
    "# Create new OAuth client & csrf token\n",
    "oauth = OAuth2(\n",
    "  client_id=client_id,\n",
    "  client_secret=client_secret\n",
    ")\n",
    "csrf_token = ''"
   ]
  },
  {
   "cell_type": "code",
   "execution_count": null,
   "metadata": {
    "scrolled": true
   },
   "outputs": [],
   "source": [
    "global csrf_token\n",
    "auth_url, csrf_token = oauth.get_authorization_url(redirect_uri)\n",
    "\n",
    "print(auth_url)"
   ]
  },
  {
   "cell_type": "markdown",
   "metadata": {},
   "source": [
    "After clicking the link above, select \"grant access\".  From here, copy the part of the URL after code= and paste below.  This expires in 30 seconds so you have to be fast!"
   ]
  },
  {
   "cell_type": "code",
   "execution_count": null,
   "metadata": {},
   "outputs": [],
   "source": [
    "# insert here\n",
    "code = 'your_code'\n",
    "\n",
    "access_token, refresh_token = oauth.authenticate(code)"
   ]
  },
  {
   "cell_type": "code",
   "execution_count": null,
   "metadata": {},
   "outputs": [],
   "source": [
    "print(access_token)"
   ]
  },
  {
   "cell_type": "markdown",
   "metadata": {},
   "source": [
    "This is the access token you will use to login using OAuth2! (see login.py or https://developer.box.com/docs/authenticate-with-oauth-2).  From what I can tell, this should last 60 days before you need to reauthenticate."
   ]
  },
  {
   "cell_type": "code",
   "execution_count": null,
   "metadata": {},
   "outputs": [],
   "source": [
    "# This does the authentication\n",
    "client = Client(oauth)"
   ]
  },
  {
   "cell_type": "code",
   "execution_count": null,
   "metadata": {},
   "outputs": [],
   "source": [
    "client.user"
   ]
  },
  {
   "cell_type": "code",
   "execution_count": null,
   "metadata": {},
   "outputs": [],
   "source": [
    "client.user().get()"
   ]
  },
  {
   "cell_type": "markdown",
   "metadata": {},
   "source": [
    "If you do not get your own name above, then you have done something wrong :(.  Otherwise all good!  You can confirm by running login.py that your new access token works (change access_token variable in box_config.py)"
   ]
  },
  {
   "cell_type": "code",
   "execution_count": null,
   "metadata": {},
   "outputs": [],
   "source": []
  }
 ],
 "metadata": {
  "kernelspec": {
   "display_name": "box",
   "language": "python",
   "name": "box"
  },
  "language_info": {
   "codemirror_mode": {
    "name": "ipython",
    "version": 3
   },
   "file_extension": ".py",
   "mimetype": "text/x-python",
   "name": "python",
   "nbconvert_exporter": "python",
   "pygments_lexer": "ipython3",
   "version": "3.7.2"
  }
 },
 "nbformat": 4,
 "nbformat_minor": 2
}
